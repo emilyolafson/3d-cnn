{
  "nbformat": 4,
  "nbformat_minor": 0,
  "metadata": {
    "colab": {
      "name": "visualize_filters_3DCNN.ipynb",
      "provenance": [],
      "authorship_tag": "ABX9TyO0jpD3AjjySRemJ9cdku3k",
      "include_colab_link": true
    },
    "kernelspec": {
      "name": "python3",
      "display_name": "Python 3"
    }
  },
  "cells": [
    {
      "cell_type": "markdown",
      "metadata": {
        "id": "view-in-github",
        "colab_type": "text"
      },
      "source": [
        "<a href=\"https://colab.research.google.com/github/emilyolafson/3d-cnn/blob/main/visualize_filters_3DCNN.ipynb\" target=\"_parent\"><img src=\"https://colab.research.google.com/assets/colab-badge.svg\" alt=\"Open In Colab\"/></a>"
      ]
    },
    {
      "cell_type": "code",
      "metadata": {
        "colab": {
          "base_uri": "https://localhost:8080/"
        },
        "id": "PJHYy1kfsk90",
        "outputId": "c713f79a-7601-4720-9eb6-47bc6d2ebcc3"
      },
      "source": [
        "import pickle\n",
        "import numpy as np\n",
        "import pandas as pd\n",
        "import seaborn as sns\n",
        "from sklearn.svm import SVR\n",
        "from sklearn import preprocessing\n",
        "import sklearn\n",
        "import scipy.io as sio\n",
        "import csv\n",
        "from google.colab import drive\n",
        "import tensorflow as tfz\n",
        "from tensorflow import keras\n",
        "from tensorflow.keras import layers\n",
        "import matplotlib.pyplot as plt\n",
        "\n",
        "drive.mount(\"/content/drive\")\n",
        "# https://towardsdatascience.com/convolutional-neural-network-feature-map-and-filter-visualization-f75012a5a49c"
      ],
      "execution_count": 3,
      "outputs": [
        {
          "output_type": "stream",
          "text": [
            "Drive already mounted at /content/drive; to attempt to forcibly remount, call drive.mount(\"/content/drive\", force_remount=True).\n"
          ],
          "name": "stdout"
        }
      ]
    },
    {
      "cell_type": "code",
      "metadata": {
        "colab": {
          "base_uri": "https://localhost:8080/"
        },
        "id": "EzMkJiAoshki",
        "outputId": "14d3da60-60df-4298-b87e-d635f36bfc89"
      },
      "source": [
        "from keras.models import model_from_json\n",
        "\n",
        "resultsdir='/content/drive/My Drive/Cornell/Thesis/Projects/MSpredict/'\n",
        "json_file = open(resultsdir+'model.json', 'r')\n",
        "loaded_model_json = json_file.read()\n",
        "\n",
        "json_file.close()\n",
        "loaded_model = model_from_json(loaded_model_json)\n",
        "# load weights into new model\n",
        "loaded_model.load_weights(resultsdir+\"model.h5\")\n",
        "print(\"Loaded model from disk\")"
      ],
      "execution_count": 5,
      "outputs": [
        {
          "output_type": "stream",
          "text": [
            "Loaded model from disk\n"
          ],
          "name": "stdout"
        }
      ]
    },
    {
      "cell_type": "code",
      "metadata": {
        "id": "5WnoSrPes5tY"
      },
      "source": [
        "\n",
        "# Compile model.\n",
        "initial_learning_rate = 0.0001\n",
        "lr_schedule = keras.optimizers.schedules.ExponentialDecay(\n",
        "    initial_learning_rate, decay_steps=100000, decay_rate=0.96, staircase=True\n",
        ")\n",
        "loaded_model.compile(\n",
        "    loss=\"binary_crossentropy\",\n",
        "    optimizer=keras.optimizers.Adam(learning_rate=lr_schedule),\n",
        "    metrics=[\"acc\"],\n",
        ")"
      ],
      "execution_count": 7,
      "outputs": []
    },
    {
      "cell_type": "code",
      "metadata": {
        "colab": {
          "base_uri": "https://localhost:8080/",
          "height": 525
        },
        "id": "HFWaaZbAtjPO",
        "outputId": "d6fb9891-16b8-453b-aa34-3240c80ad356"
      },
      "source": [
        "#Iterate thru all the layers of the model\n",
        "for layer in loaded_model.layers:\n",
        "    if 'conv3d' in layer.name:\n",
        "        weights= layer.get_weights()\n",
        "        \n",
        "        #normalize filter values between  0 and 1 for visualization\n",
        "        f_min, f_max = weights.min(), weights.max()\n",
        "        filters = (weights - f_min) / (f_max - f_min)  \n",
        "        print(filters.shape[3])\n",
        "        filter_cnt=1\n",
        "        print(layer.name, filters.shape)\n",
        "\n",
        "        #plotting all the filters\n",
        "        for i in range(filters.shape[3]):\n",
        "            #get the filters\n",
        "            filt=filters[:,:,:, i]\n",
        "            #plotting each of the channel, color image RGB channels\n",
        "            for j in range(filters.shape[0]):\n",
        "                ax= plt.subplot(filters.shape[3], filters.shape[0], filter_cnt  )\n",
        "                ax.set_xticks([])\n",
        "                ax.set_yticks([])\n",
        "                plt.imshow(filt[:,:, j])\n",
        "                filter_cnt+=1\n",
        "        plt.show()"
      ],
      "execution_count": 12,
      "outputs": [
        {
          "output_type": "stream",
          "text": [
            "1\n",
            "conv3d (3, 3, 3, 1, 64)\n"
          ],
          "name": "stdout"
        },
        {
          "output_type": "error",
          "ename": "TypeError",
          "evalue": "ignored",
          "traceback": [
            "\u001b[0;31m---------------------------------------------------------------------------\u001b[0m",
            "\u001b[0;31mTypeError\u001b[0m                                 Traceback (most recent call last)",
            "\u001b[0;32m<ipython-input-12-cf2e51c1601c>\u001b[0m in \u001b[0;36m<module>\u001b[0;34m()\u001b[0m\n\u001b[1;32m     20\u001b[0m                 \u001b[0max\u001b[0m\u001b[0;34m.\u001b[0m\u001b[0mset_xticks\u001b[0m\u001b[0;34m(\u001b[0m\u001b[0;34m[\u001b[0m\u001b[0;34m]\u001b[0m\u001b[0;34m)\u001b[0m\u001b[0;34m\u001b[0m\u001b[0;34m\u001b[0m\u001b[0m\n\u001b[1;32m     21\u001b[0m                 \u001b[0max\u001b[0m\u001b[0;34m.\u001b[0m\u001b[0mset_yticks\u001b[0m\u001b[0;34m(\u001b[0m\u001b[0;34m[\u001b[0m\u001b[0;34m]\u001b[0m\u001b[0;34m)\u001b[0m\u001b[0;34m\u001b[0m\u001b[0;34m\u001b[0m\u001b[0m\n\u001b[0;32m---> 22\u001b[0;31m                 \u001b[0mplt\u001b[0m\u001b[0;34m.\u001b[0m\u001b[0mimshow\u001b[0m\u001b[0;34m(\u001b[0m\u001b[0mfilt\u001b[0m\u001b[0;34m[\u001b[0m\u001b[0;34m:\u001b[0m\u001b[0;34m,\u001b[0m\u001b[0;34m:\u001b[0m\u001b[0;34m,\u001b[0m \u001b[0mj\u001b[0m\u001b[0;34m]\u001b[0m\u001b[0;34m)\u001b[0m\u001b[0;34m\u001b[0m\u001b[0;34m\u001b[0m\u001b[0m\n\u001b[0m\u001b[1;32m     23\u001b[0m                 \u001b[0mfilter_cnt\u001b[0m\u001b[0;34m+=\u001b[0m\u001b[0;36m1\u001b[0m\u001b[0;34m\u001b[0m\u001b[0;34m\u001b[0m\u001b[0m\n\u001b[1;32m     24\u001b[0m         \u001b[0mplt\u001b[0m\u001b[0;34m.\u001b[0m\u001b[0mshow\u001b[0m\u001b[0;34m(\u001b[0m\u001b[0;34m)\u001b[0m\u001b[0;34m\u001b[0m\u001b[0;34m\u001b[0m\u001b[0m\n",
            "\u001b[0;32m/usr/local/lib/python3.6/dist-packages/matplotlib/pyplot.py\u001b[0m in \u001b[0;36mimshow\u001b[0;34m(X, cmap, norm, aspect, interpolation, alpha, vmin, vmax, origin, extent, shape, filternorm, filterrad, imlim, resample, url, data, **kwargs)\u001b[0m\n\u001b[1;32m   2649\u001b[0m         \u001b[0mfilternorm\u001b[0m\u001b[0;34m=\u001b[0m\u001b[0mfilternorm\u001b[0m\u001b[0;34m,\u001b[0m \u001b[0mfilterrad\u001b[0m\u001b[0;34m=\u001b[0m\u001b[0mfilterrad\u001b[0m\u001b[0;34m,\u001b[0m \u001b[0mimlim\u001b[0m\u001b[0;34m=\u001b[0m\u001b[0mimlim\u001b[0m\u001b[0;34m,\u001b[0m\u001b[0;34m\u001b[0m\u001b[0;34m\u001b[0m\u001b[0m\n\u001b[1;32m   2650\u001b[0m         resample=resample, url=url, **({\"data\": data} if data is not\n\u001b[0;32m-> 2651\u001b[0;31m         None else {}), **kwargs)\n\u001b[0m\u001b[1;32m   2652\u001b[0m     \u001b[0msci\u001b[0m\u001b[0;34m(\u001b[0m\u001b[0m__ret\u001b[0m\u001b[0;34m)\u001b[0m\u001b[0;34m\u001b[0m\u001b[0;34m\u001b[0m\u001b[0m\n\u001b[1;32m   2653\u001b[0m     \u001b[0;32mreturn\u001b[0m \u001b[0m__ret\u001b[0m\u001b[0;34m\u001b[0m\u001b[0;34m\u001b[0m\u001b[0m\n",
            "\u001b[0;32m/usr/local/lib/python3.6/dist-packages/matplotlib/__init__.py\u001b[0m in \u001b[0;36minner\u001b[0;34m(ax, data, *args, **kwargs)\u001b[0m\n\u001b[1;32m   1563\u001b[0m     \u001b[0;32mdef\u001b[0m \u001b[0minner\u001b[0m\u001b[0;34m(\u001b[0m\u001b[0max\u001b[0m\u001b[0;34m,\u001b[0m \u001b[0;34m*\u001b[0m\u001b[0margs\u001b[0m\u001b[0;34m,\u001b[0m \u001b[0mdata\u001b[0m\u001b[0;34m=\u001b[0m\u001b[0;32mNone\u001b[0m\u001b[0;34m,\u001b[0m \u001b[0;34m**\u001b[0m\u001b[0mkwargs\u001b[0m\u001b[0;34m)\u001b[0m\u001b[0;34m:\u001b[0m\u001b[0;34m\u001b[0m\u001b[0;34m\u001b[0m\u001b[0m\n\u001b[1;32m   1564\u001b[0m         \u001b[0;32mif\u001b[0m \u001b[0mdata\u001b[0m \u001b[0;32mis\u001b[0m \u001b[0;32mNone\u001b[0m\u001b[0;34m:\u001b[0m\u001b[0;34m\u001b[0m\u001b[0;34m\u001b[0m\u001b[0m\n\u001b[0;32m-> 1565\u001b[0;31m             \u001b[0;32mreturn\u001b[0m \u001b[0mfunc\u001b[0m\u001b[0;34m(\u001b[0m\u001b[0max\u001b[0m\u001b[0;34m,\u001b[0m \u001b[0;34m*\u001b[0m\u001b[0mmap\u001b[0m\u001b[0;34m(\u001b[0m\u001b[0msanitize_sequence\u001b[0m\u001b[0;34m,\u001b[0m \u001b[0margs\u001b[0m\u001b[0;34m)\u001b[0m\u001b[0;34m,\u001b[0m \u001b[0;34m**\u001b[0m\u001b[0mkwargs\u001b[0m\u001b[0;34m)\u001b[0m\u001b[0;34m\u001b[0m\u001b[0;34m\u001b[0m\u001b[0m\n\u001b[0m\u001b[1;32m   1566\u001b[0m \u001b[0;34m\u001b[0m\u001b[0m\n\u001b[1;32m   1567\u001b[0m         \u001b[0mbound\u001b[0m \u001b[0;34m=\u001b[0m \u001b[0mnew_sig\u001b[0m\u001b[0;34m.\u001b[0m\u001b[0mbind\u001b[0m\u001b[0;34m(\u001b[0m\u001b[0max\u001b[0m\u001b[0;34m,\u001b[0m \u001b[0;34m*\u001b[0m\u001b[0margs\u001b[0m\u001b[0;34m,\u001b[0m \u001b[0;34m**\u001b[0m\u001b[0mkwargs\u001b[0m\u001b[0;34m)\u001b[0m\u001b[0;34m\u001b[0m\u001b[0;34m\u001b[0m\u001b[0m\n",
            "\u001b[0;32m/usr/local/lib/python3.6/dist-packages/matplotlib/cbook/deprecation.py\u001b[0m in \u001b[0;36mwrapper\u001b[0;34m(*args, **kwargs)\u001b[0m\n\u001b[1;32m    356\u001b[0m                 \u001b[0;34mf\"%(removal)s.  If any parameter follows {name!r}, they \"\u001b[0m\u001b[0;34m\u001b[0m\u001b[0;34m\u001b[0m\u001b[0m\n\u001b[1;32m    357\u001b[0m                 f\"should be pass as keyword, not positionally.\")\n\u001b[0;32m--> 358\u001b[0;31m         \u001b[0;32mreturn\u001b[0m \u001b[0mfunc\u001b[0m\u001b[0;34m(\u001b[0m\u001b[0;34m*\u001b[0m\u001b[0margs\u001b[0m\u001b[0;34m,\u001b[0m \u001b[0;34m**\u001b[0m\u001b[0mkwargs\u001b[0m\u001b[0;34m)\u001b[0m\u001b[0;34m\u001b[0m\u001b[0;34m\u001b[0m\u001b[0m\n\u001b[0m\u001b[1;32m    359\u001b[0m \u001b[0;34m\u001b[0m\u001b[0m\n\u001b[1;32m    360\u001b[0m     \u001b[0;32mreturn\u001b[0m \u001b[0mwrapper\u001b[0m\u001b[0;34m\u001b[0m\u001b[0;34m\u001b[0m\u001b[0m\n",
            "\u001b[0;32m/usr/local/lib/python3.6/dist-packages/matplotlib/cbook/deprecation.py\u001b[0m in \u001b[0;36mwrapper\u001b[0;34m(*args, **kwargs)\u001b[0m\n\u001b[1;32m    356\u001b[0m                 \u001b[0;34mf\"%(removal)s.  If any parameter follows {name!r}, they \"\u001b[0m\u001b[0;34m\u001b[0m\u001b[0;34m\u001b[0m\u001b[0m\n\u001b[1;32m    357\u001b[0m                 f\"should be pass as keyword, not positionally.\")\n\u001b[0;32m--> 358\u001b[0;31m         \u001b[0;32mreturn\u001b[0m \u001b[0mfunc\u001b[0m\u001b[0;34m(\u001b[0m\u001b[0;34m*\u001b[0m\u001b[0margs\u001b[0m\u001b[0;34m,\u001b[0m \u001b[0;34m**\u001b[0m\u001b[0mkwargs\u001b[0m\u001b[0;34m)\u001b[0m\u001b[0;34m\u001b[0m\u001b[0;34m\u001b[0m\u001b[0m\n\u001b[0m\u001b[1;32m    359\u001b[0m \u001b[0;34m\u001b[0m\u001b[0m\n\u001b[1;32m    360\u001b[0m     \u001b[0;32mreturn\u001b[0m \u001b[0mwrapper\u001b[0m\u001b[0;34m\u001b[0m\u001b[0;34m\u001b[0m\u001b[0m\n",
            "\u001b[0;32m/usr/local/lib/python3.6/dist-packages/matplotlib/axes/_axes.py\u001b[0m in \u001b[0;36mimshow\u001b[0;34m(self, X, cmap, norm, aspect, interpolation, alpha, vmin, vmax, origin, extent, shape, filternorm, filterrad, imlim, resample, url, **kwargs)\u001b[0m\n\u001b[1;32m   5624\u001b[0m                               resample=resample, **kwargs)\n\u001b[1;32m   5625\u001b[0m \u001b[0;34m\u001b[0m\u001b[0m\n\u001b[0;32m-> 5626\u001b[0;31m         \u001b[0mim\u001b[0m\u001b[0;34m.\u001b[0m\u001b[0mset_data\u001b[0m\u001b[0;34m(\u001b[0m\u001b[0mX\u001b[0m\u001b[0;34m)\u001b[0m\u001b[0;34m\u001b[0m\u001b[0;34m\u001b[0m\u001b[0m\n\u001b[0m\u001b[1;32m   5627\u001b[0m         \u001b[0mim\u001b[0m\u001b[0;34m.\u001b[0m\u001b[0mset_alpha\u001b[0m\u001b[0;34m(\u001b[0m\u001b[0malpha\u001b[0m\u001b[0;34m)\u001b[0m\u001b[0;34m\u001b[0m\u001b[0;34m\u001b[0m\u001b[0m\n\u001b[1;32m   5628\u001b[0m         \u001b[0;32mif\u001b[0m \u001b[0mim\u001b[0m\u001b[0;34m.\u001b[0m\u001b[0mget_clip_path\u001b[0m\u001b[0;34m(\u001b[0m\u001b[0;34m)\u001b[0m \u001b[0;32mis\u001b[0m \u001b[0;32mNone\u001b[0m\u001b[0;34m:\u001b[0m\u001b[0;34m\u001b[0m\u001b[0;34m\u001b[0m\u001b[0m\n",
            "\u001b[0;32m/usr/local/lib/python3.6/dist-packages/matplotlib/image.py\u001b[0m in \u001b[0;36mset_data\u001b[0;34m(self, A)\u001b[0m\n\u001b[1;32m    697\u001b[0m                 or self._A.ndim == 3 and self._A.shape[-1] in [3, 4]):\n\u001b[1;32m    698\u001b[0m             raise TypeError(\"Invalid shape {} for image data\"\n\u001b[0;32m--> 699\u001b[0;31m                             .format(self._A.shape))\n\u001b[0m\u001b[1;32m    700\u001b[0m \u001b[0;34m\u001b[0m\u001b[0m\n\u001b[1;32m    701\u001b[0m         \u001b[0;32mif\u001b[0m \u001b[0mself\u001b[0m\u001b[0;34m.\u001b[0m\u001b[0m_A\u001b[0m\u001b[0;34m.\u001b[0m\u001b[0mndim\u001b[0m \u001b[0;34m==\u001b[0m \u001b[0;36m3\u001b[0m\u001b[0;34m:\u001b[0m\u001b[0;34m\u001b[0m\u001b[0;34m\u001b[0m\u001b[0m\n",
            "\u001b[0;31mTypeError\u001b[0m: Invalid shape (3, 3, 64) for image data"
          ]
        },
        {
          "output_type": "display_data",
          "data": {
            "image/png": "[encoded data removed]",
            "text/plain": [
              "<Figure size 432x288 with 1 Axes>"
            ]
          },
          "metadata": {
            "tags": []
          }
        }
      ]
    },
    {
      "cell_type": "code",
      "metadata": {
        "colab": {
          "base_uri": "https://localhost:8080/",
          "height": 1000
        },
        "id": "IcXmUTt1t9R-",
        "outputId": "1c1081b9-9d22-4f52-a8b5-d4525c55dcf4"
      },
      "source": [
        "for layer in loaded_model.layers:\n",
        "    if 'conv3d' in layer.name:\n",
        "      weights=layer.get_weights()\n",
        "      print(weights)\n",
        "      filters = weights\n",
        "      filter_cnt=1\n",
        "      #plotting all the filters\n",
        "      for i in range(1, 64):\n",
        "          #get the filters\n",
        "          filt=filters[:,:,:, i]\n",
        "          #plotting each of the channel, color image RGB channels\n",
        "          for j in range(filters.shape[0]):\n",
        "              ax= plt.subplot(filters.shape[3], filters.shape[0], filter_cnt  )\n",
        "              ax.set_xticks([])\n",
        "              ax.set_yticks([])\n",
        "              plt.imshow(filt[:,:, j])\n",
        "              filter_cnt+=1\n",
        "      plt.show()\n"
      ],
      "execution_count": 26,
      "outputs": [
        {
          "output_type": "stream",
          "text": [
            "[array([[[[[-0.04895227, -0.01546095, -0.00076302, ...,  0.00895266,\n",
            "            0.01666821,  0.02881686]],\n",
            "\n",
            "         [[-0.04165991,  0.02981711, -0.02019708, ..., -0.01888132,\n",
            "            0.04803039,  0.02783479]],\n",
            "\n",
            "         [[ 0.03854174,  0.03137143, -0.0141106 , ...,  0.02011078,\n",
            "           -0.04487712,  0.03132398]]],\n",
            "\n",
            "\n",
            "        [[[-0.00177989, -0.044255  , -0.00348336, ...,  0.00426409,\n",
            "            0.00698789,  0.03551538]],\n",
            "\n",
            "         [[-0.05857711,  0.04715712,  0.00619965, ...,  0.02637679,\n",
            "           -0.0348344 , -0.04723981]],\n",
            "\n",
            "         [[ 0.01374852,  0.02108836,  0.05614468, ...,  0.02708124,\n",
            "           -0.03134118,  0.00136068]]],\n",
            "\n",
            "\n",
            "        [[[-0.03243455,  0.03620286,  0.04229563, ..., -0.01553078,\n",
            "            0.04787356,  0.05061073]],\n",
            "\n",
            "         [[-0.01240892, -0.05031903,  0.02580589, ...,  0.04505393,\n",
            "           -0.0004823 , -0.03117894]],\n",
            "\n",
            "         [[ 0.02371151,  0.01553078, -0.03349576, ...,  0.03950723,\n",
            "           -0.00457712, -0.04278263]]]],\n",
            "\n",
            "\n",
            "\n",
            "       [[[[-0.03296544, -0.05559649,  0.00370883, ...,  0.02140523,\n",
            "            0.06535323, -0.0361429 ]],\n",
            "\n",
            "         [[ 0.0291146 , -0.03204567, -0.01777821, ..., -0.0528865 ,\n",
            "           -0.01771785,  0.03411674]],\n",
            "\n",
            "         [[ 0.01474879,  0.01865314, -0.02622339, ...,  0.02343994,\n",
            "           -0.02450936, -0.02874941]]],\n",
            "\n",
            "\n",
            "        [[[-0.01145478, -0.04691066, -0.02727973, ..., -0.01800213,\n",
            "            0.03209134, -0.04428881]],\n",
            "\n",
            "         [[ 0.01565941,  0.06127484, -0.03107119, ..., -0.03279019,\n",
            "           -0.00082783,  0.02523888]],\n",
            "\n",
            "         [[-0.02451872, -0.01841434, -0.03198186, ..., -0.0247331 ,\n",
            "            0.01892725, -0.00675071]]],\n",
            "\n",
            "\n",
            "        [[[-0.05017998,  0.01734563,  0.01358792, ..., -0.00494918,\n",
            "            0.03730677, -0.03254555]],\n",
            "\n",
            "         [[ 0.04020718,  0.03672936, -0.04254979, ...,  0.04398199,\n",
            "            0.01930693, -0.0098104 ]],\n",
            "\n",
            "         [[ 0.0243306 ,  0.01942197, -0.04084937, ...,  0.01384529,\n",
            "            0.03350561, -0.00848262]]]],\n",
            "\n",
            "\n",
            "\n",
            "       [[[[ 0.05592215, -0.04179976, -0.02573047, ..., -0.03875752,\n",
            "           -0.0114099 ,  0.06256422]],\n",
            "\n",
            "         [[-0.03228128, -0.00645631,  0.05604681, ...,  0.05293172,\n",
            "            0.011137  , -0.03516985]],\n",
            "\n",
            "         [[-0.02763732, -0.02470922,  0.0620869 , ..., -0.04267175,\n",
            "            0.01550603,  0.0560384 ]]],\n",
            "\n",
            "\n",
            "        [[[-0.00050002, -0.01019398, -0.01588361, ...,  0.02974805,\n",
            "            0.01259367,  0.05652519]],\n",
            "\n",
            "         [[-0.02416059,  0.03329052,  0.03356225, ...,  0.01260266,\n",
            "           -0.04762384,  0.00125867]],\n",
            "\n",
            "         [[-0.03396099,  0.02302557,  0.05336561, ..., -0.00762123,\n",
            "            0.00177182, -0.0086225 ]]],\n",
            "\n",
            "\n",
            "        [[[ 0.00629019, -0.01368278, -0.05363365, ...,  0.01664835,\n",
            "           -0.01293507,  0.05439004]],\n",
            "\n",
            "         [[ 0.00737653,  0.04434467,  0.0466015 , ...,  0.02202873,\n",
            "            0.04027831, -0.02584104]],\n",
            "\n",
            "         [[-0.05394476, -0.03964569, -0.00163049, ..., -0.02021973,\n",
            "           -0.01282004,  0.01808349]]]]], dtype=float32), array([-1.00257702e-03, -1.17722375e-03, -1.24288327e-03, -1.71925640e-03,\n",
            "       -7.41278171e-04, -3.12763406e-03, -1.57641841e-03, -1.75152626e-03,\n",
            "       -3.27743869e-03, -1.13891065e-03, -1.14295003e-03, -2.03123968e-03,\n",
            "       -6.77583390e-04, -1.90615607e-03, -2.17835023e-03, -6.29398623e-04,\n",
            "       -1.99856260e-03, -1.05591095e-03,  2.97566014e-03, -8.83345725e-04,\n",
            "       -7.57629983e-04, -1.18291518e-03, -3.41961422e-04, -9.58275050e-04,\n",
            "       -1.29726285e-03, -4.83291311e-04, -1.76981685e-03,  1.48031255e-02,\n",
            "       -8.08160985e-05, -2.82435212e-03, -2.81097018e-03, -7.29031221e-04,\n",
            "       -3.35503789e-03, -2.23125913e-03, -8.38550273e-04, -2.16465141e-03,\n",
            "       -7.14530470e-04, -6.03471068e-04, -1.02754717e-03, -6.87404128e-04,\n",
            "       -1.17398833e-03,  1.61132645e-02, -1.11687917e-03, -3.14824888e-03,\n",
            "        1.84554029e-02, -3.65911284e-04, -5.16032276e-04, -2.01198179e-03,\n",
            "       -6.12916541e-04, -3.01822484e-03, -7.43676908e-04, -2.01940862e-03,\n",
            "       -2.39883573e-03, -1.06320146e-03, -6.89150125e-04, -1.65755372e-03,\n",
            "       -1.66928442e-03, -2.03941320e-03,  7.75825558e-03, -9.14654345e-04,\n",
            "        3.09212343e-03, -5.34944469e-04, -1.40362966e-03, -7.94826541e-04],\n",
            "      dtype=float32)]\n"
          ],
          "name": "stdout"
        },
        {
          "output_type": "error",
          "ename": "TypeError",
          "evalue": "ignored",
          "traceback": [
            "\u001b[0;31m---------------------------------------------------------------------------\u001b[0m",
            "\u001b[0;31mTypeError\u001b[0m                                 Traceback (most recent call last)",
            "\u001b[0;32m<ipython-input-26-b84af2f2c7c2>\u001b[0m in \u001b[0;36m<module>\u001b[0;34m()\u001b[0m\n\u001b[1;32m      8\u001b[0m       \u001b[0;32mfor\u001b[0m \u001b[0mi\u001b[0m \u001b[0;32min\u001b[0m \u001b[0mrange\u001b[0m\u001b[0;34m(\u001b[0m\u001b[0;36m1\u001b[0m\u001b[0;34m,\u001b[0m \u001b[0;36m64\u001b[0m\u001b[0;34m)\u001b[0m\u001b[0;34m:\u001b[0m\u001b[0;34m\u001b[0m\u001b[0;34m\u001b[0m\u001b[0m\n\u001b[1;32m      9\u001b[0m           \u001b[0;31m#get the filters\u001b[0m\u001b[0;34m\u001b[0m\u001b[0;34m\u001b[0m\u001b[0;34m\u001b[0m\u001b[0m\n\u001b[0;32m---> 10\u001b[0;31m           \u001b[0mfilt\u001b[0m\u001b[0;34m=\u001b[0m\u001b[0mfilters\u001b[0m\u001b[0;34m[\u001b[0m\u001b[0;34m:\u001b[0m\u001b[0;34m,\u001b[0m\u001b[0;34m:\u001b[0m\u001b[0;34m,\u001b[0m\u001b[0;34m:\u001b[0m\u001b[0;34m,\u001b[0m \u001b[0mi\u001b[0m\u001b[0;34m]\u001b[0m\u001b[0;34m\u001b[0m\u001b[0;34m\u001b[0m\u001b[0m\n\u001b[0m\u001b[1;32m     11\u001b[0m           \u001b[0;31m#plotting each of the channel, color image RGB channels\u001b[0m\u001b[0;34m\u001b[0m\u001b[0;34m\u001b[0m\u001b[0;34m\u001b[0m\u001b[0m\n\u001b[1;32m     12\u001b[0m           \u001b[0;32mfor\u001b[0m \u001b[0mj\u001b[0m \u001b[0;32min\u001b[0m \u001b[0mrange\u001b[0m\u001b[0;34m(\u001b[0m\u001b[0mfilters\u001b[0m\u001b[0;34m.\u001b[0m\u001b[0mshape\u001b[0m\u001b[0;34m[\u001b[0m\u001b[0;36m0\u001b[0m\u001b[0;34m]\u001b[0m\u001b[0;34m)\u001b[0m\u001b[0;34m:\u001b[0m\u001b[0;34m\u001b[0m\u001b[0;34m\u001b[0m\u001b[0m\n",
            "\u001b[0;31mTypeError\u001b[0m: list indices must be integers or slices, not tuple"
          ]
        }
      ]
    },
    {
      "cell_type": "code",
      "metadata": {
        "colab": {
          "base_uri": "https://localhost:8080/",
          "height": 374
        },
        "id": "f4zVIUSPvjI8",
        "outputId": "8ac7c2cd-36cb-42e8-f377-b8e02f874ca8"
      },
      "source": [
        "for layer in loaded_model.layers:\n",
        "    if 'conv3d' in layer.name:\n",
        "      weights=layer.get_weights()\n",
        "      filters=weights[0]\n",
        "      print(filters.shape)\n",
        "      #plotting all the filters\n",
        "      filter_cnt=1\n",
        "      for i in range(0,64):\n",
        "        #get the filters\n",
        "        ax= plt.subplot(8, 8, filter_cnt)\n",
        "        filter_cnt=filter_cnt+1\n",
        "        filt=filters[:,:,0,0,i]\n",
        "        ax.set_xticks([])\n",
        "        ax.set_yticks([])\n",
        "        plt.imshow(filt) "
      ],
      "execution_count": 53,
      "outputs": [
        {
          "output_type": "stream",
          "text": [
            "(3, 3, 3, 1, 64)\n",
            "(3, 3, 3, 64, 64)\n",
            "(3, 3, 3, 64, 128)\n",
            "(3, 3, 3, 128, 256)\n"
          ],
          "name": "stdout"
        },
        {
          "output_type": "stream",
          "text": [
            "/usr/local/lib/python3.6/dist-packages/ipykernel_launcher.py:10: MatplotlibDeprecationWarning: Adding an axes using the same arguments as a previous axes currently reuses the earlier instance.  In a future version, a new instance will always be created and returned.  Meanwhile, this warning can be suppressed, and the future behavior ensured, by passing a unique label to each axes instance.\n",
            "  # Remove the CWD from sys.path while we load stuff.\n"
          ],
          "name": "stderr"
        },
        {
          "output_type": "display_data",
          "data": {
            "image/png": "[encoded data removed]",
            "text/plain": [
              "<Figure size 432x288 with 64 Axes>"
            ]
          },
          "metadata": {
            "tags": []
          }
        }
      ]
    },
    {
      "cell_type": "code",
      "metadata": {
        "colab": {
          "base_uri": "https://localhost:8080/",
          "height": 374
        },
        "id": "RifOp0g71-QD",
        "outputId": "0572058b-431e-492d-8f11-317cfa3f7bee"
      },
      "source": [
        "for layer in loaded_model.layers:\n",
        "    if 'conv3d' in layer.name:\n",
        "      weights=layer.get_weights()\n",
        "      filters=weights[0]\n",
        "      print(filters.shape)\n",
        "      #plotting all the filters\n",
        "      filter_cnt=1\n",
        "      for i in range(0,64):\n",
        "        #get the filters\n",
        "        ax= plt.subplot(8, 8, filter_cnt)\n",
        "        filter_cnt=filter_cnt+1\n",
        "        filt=filters[:,0,:,0,i]\n",
        "        ax.set_xticks([])\n",
        "        ax.set_yticks([])\n",
        "        plt.imshow(filt) "
      ],
      "execution_count": 52,
      "outputs": [
        {
          "output_type": "stream",
          "text": [
            "(3, 3, 3, 1, 64)\n",
            "(3, 3, 3, 64, 64)\n",
            "(3, 3, 3, 64, 128)\n",
            "(3, 3, 3, 128, 256)\n"
          ],
          "name": "stdout"
        },
        {
          "output_type": "stream",
          "text": [
            "/usr/local/lib/python3.6/dist-packages/ipykernel_launcher.py:10: MatplotlibDeprecationWarning: Adding an axes using the same arguments as a previous axes currently reuses the earlier instance.  In a future version, a new instance will always be created and returned.  Meanwhile, this warning can be suppressed, and the future behavior ensured, by passing a unique label to each axes instance.\n",
            "  # Remove the CWD from sys.path while we load stuff.\n"
          ],
          "name": "stderr"
        },
        {
          "output_type": "display_data",
          "data": {
            "image/png": "[encoded data removed]",
            "text/plain": [
              "<Figure size 432x288 with 64 Axes>"
            ]
          },
          "metadata": {
            "tags": []
          }
        }
      ]
    },
    {
      "cell_type": "code",
      "metadata": {
        "colab": {
          "base_uri": "https://localhost:8080/",
          "height": 374
        },
        "id": "GPyk0oe_2HuS",
        "outputId": "b7f2e0c7-c5f6-46f2-86ef-1564050d5619"
      },
      "source": [
        "for layer in loaded_model.layers:\n",
        "    if 'conv3d' in layer.name:\n",
        "      weights=layer.get_weights()\n",
        "      filters=weights[0]\n",
        "      print(filters.shape)\n",
        "      #plotting all the filters\n",
        "      filter_cnt=1\n",
        "      for i in range(0,64):\n",
        "        #get the filters\n",
        "        ax= plt.subplot(8, 8, filter_cnt)\n",
        "        filter_cnt=filter_cnt+1\n",
        "        filt=filters[0,:,:,0,i]\n",
        "        ax.set_xticks([])\n",
        "        ax.set_yticks([])\n",
        "        plt.imshow(filt) "
      ],
      "execution_count": 54,
      "outputs": [
        {
          "output_type": "stream",
          "text": [
            "(3, 3, 3, 1, 64)\n",
            "(3, 3, 3, 64, 64)\n",
            "(3, 3, 3, 64, 128)\n",
            "(3, 3, 3, 128, 256)\n"
          ],
          "name": "stdout"
        },
        {
          "output_type": "stream",
          "text": [
            "/usr/local/lib/python3.6/dist-packages/ipykernel_launcher.py:10: MatplotlibDeprecationWarning: Adding an axes using the same arguments as a previous axes currently reuses the earlier instance.  In a future version, a new instance will always be created and returned.  Meanwhile, this warning can be suppressed, and the future behavior ensured, by passing a unique label to each axes instance.\n",
            "  # Remove the CWD from sys.path while we load stuff.\n"
          ],
          "name": "stderr"
        },
        {
          "output_type": "display_data",
          "data": {
            "image/png": "[encoded data removed]",
            "text/plain": [
              "<Figure size 432x288 with 64 Axes>"
            ]
          },
          "metadata": {
            "tags": []
          }
        }
      ]
    }
  ]
}