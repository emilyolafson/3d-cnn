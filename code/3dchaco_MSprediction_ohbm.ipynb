{
 "cells": [
  {
   "cell_type": "code",
   "execution_count": 1,
   "metadata": {},
   "outputs": [],
   "source": [
    "#! /home/emo4002/colossus_shared3/miniconda3/bin/python3\n",
    "import os\n",
    "import zipfile\n",
    "import numpy as np\n",
    "import tensorflow as tf\n",
    "import pickle\n",
    "from tensorflow import keras\n",
    "from tensorflow.keras import layers\n",
    "import matplotlib.pyplot as plt\n",
    "from keras.models import model_from_json\n",
    "import nibabel as nib\n",
    "from sklearn.model_selection import StratifiedKFold\n",
    "from scipy import ndimage\n",
    "import random\n",
    "from sklearn.utils import class_weight\n",
    "from keras import backend as K\n",
    "from joblib import parallel_backend\n",
    "from sklearn.model_selection import train_test_split\n",
    "import json\n",
    "import sys"
   ]
  },
  {
   "cell_type": "code",
   "execution_count": 105,
   "metadata": {},
   "outputs": [
    {
     "name": "stdout",
     "output_type": "stream",
     "text": [
      "Loading pkled data\n"
     ]
    }
   ],
   "source": [
    "print(\"Loading pkled data\")\n",
    "\n",
    "cwd = os.getcwd()\n",
    "data_dir = str(cwd)+\"/data\"\n",
    "\n",
    "pickle_in = open(data_dir + \"/all_xdata.pkl\", \"r+b\")\n",
    "x = pickle.load(pickle_in)\n",
    "\n",
    "pickle_in = open(data_dir + \"/all_ydata.pkl\", \"r+b\")\n",
    "y = pickle.load(pickle_in)\n",
    "\n",
    "results_dir=str(cwd) "
   ]
  },
  {
   "cell_type": "code",
   "execution_count": 15,
   "metadata": {},
   "outputs": [
    {
     "name": "stdout",
     "output_type": "stream",
     "text": [
      "/mnt/shared_data3/emo4002/MSpredict/3d-cnn/code\n"
     ]
    }
   ],
   "source": [
    "print(cwd)"
   ]
  },
  {
   "cell_type": "code",
   "execution_count": 4,
   "metadata": {},
   "outputs": [],
   "source": [
    "def train_preprocessing(volume, label):\n",
    "    \"\"\"Process training data by rotating and adding a channel.\"\"\"\n",
    "    # Rotate volume\n",
    "    #volume = rotate(volume)\n",
    "    volume = tf.expand_dims(volume, axis=3)\n",
    "    return volume, label\n",
    "\n",
    "\n",
    "def validation_preprocessing(volume, label):\n",
    "    \"\"\"Process validation data by only adding a channel.\"\"\"\n",
    "    volume = tf.expand_dims(volume, axis=3)\n",
    "    return volume, label"
   ]
  },
  {
   "cell_type": "code",
   "execution_count": 129,
   "metadata": {},
   "outputs": [
    {
     "name": "stdout",
     "output_type": "stream",
     "text": [
      "MRI scans of individuals with disabled EDSS:  295\n"
     ]
    }
   ],
   "source": [
    "print(\"MRI scans of individuals with disabled EDSS:  \" + str(len(x)))\n",
    "skf=StratifiedKFold(n_splits=5,random_state=7,shuffle=True)\n",
    "# Define per-fold score containers\n",
    "auc_per_fold = []\n",
    "loss_per_fold = []"
   ]
  },
  {
   "cell_type": "code",
   "execution_count": 130,
   "metadata": {},
   "outputs": [
    {
     "name": "stdout",
     "output_type": "stream",
     "text": [
      "0.21052631578947367\n",
      "0.1864406779661017\n"
     ]
    }
   ],
   "source": [
    "print(sum(y_train)/len(y_train))\n",
    "print(sum(y_test)/len(y_test))"
   ]
  },
  {
   "cell_type": "code",
   "execution_count": 131,
   "metadata": {},
   "outputs": [],
   "source": [
    "def get_model(width=64, height=64, depth=64):\n",
    "    \"\"\"Build a 3D convolutional neural network model.\"\"\"\n",
    "\n",
    "    inputs = keras.Input((width, height, depth, 1))\n",
    "\n",
    "    x = layers.Conv3D(filters=10, kernel_size=3, activation=\"relu\")(inputs)\n",
    "    x = layers.MaxPool3D(pool_size=2)(x)\n",
    "    x = layers.BatchNormalization()(x)\n",
    "\n",
    "    x = layers.Conv3D(filters=20, kernel_size=3, activation=\"relu\")(x)\n",
    "    x = layers.MaxPool3D(pool_size=2)(x)\n",
    "    x = layers.BatchNormalization()(x)\n",
    "\n",
    "    x = layers.Conv3D(filters=40, kernel_size=3, activation=\"relu\")(x)\n",
    "    x = layers.MaxPool3D(pool_size=2)(x)\n",
    "    x = layers.BatchNormalization()(x)\n",
    "\n",
    "    x = layers.GlobalAveragePooling3D()(x)\n",
    "    x = layers.Dense(units=40, activation=\"relu\")(x)\n",
    "    x = layers.Dropout(0.3)(x)\n",
    "\n",
    "    outputs = layers.Dense(units=1, activation=\"sigmoid\")(x)\n",
    "\n",
    "    # Define the model.\n",
    "    model = keras.Model(inputs, outputs, name=\"3dcnn\")\n",
    "    return model"
   ]
  },
  {
   "cell_type": "code",
   "execution_count": 132,
   "metadata": {
    "scrolled": true
   },
   "outputs": [
    {
     "name": "stdout",
     "output_type": "stream",
     "text": [
      "STARTING MODEL TRAINING FOR SKFOLD SPLIT : 1\n",
      "236\n",
      "59\n",
      "Model: \"3dcnn\"\n",
      "_________________________________________________________________\n",
      "Layer (type)                 Output Shape              Param #   \n",
      "=================================================================\n",
      "input_33 (InputLayer)        [(None, 64, 64, 64, 1)]   0         \n",
      "_________________________________________________________________\n",
      "conv3d_93 (Conv3D)           (None, 62, 62, 62, 10)    280       \n",
      "_________________________________________________________________\n",
      "max_pooling3d_93 (MaxPooling (None, 31, 31, 31, 10)    0         \n",
      "_________________________________________________________________\n",
      "batch_normalization_93 (Batc (None, 31, 31, 31, 10)    40        \n",
      "_________________________________________________________________\n",
      "conv3d_94 (Conv3D)           (None, 29, 29, 29, 20)    5420      \n",
      "_________________________________________________________________\n",
      "max_pooling3d_94 (MaxPooling (None, 14, 14, 14, 20)    0         \n",
      "_________________________________________________________________\n",
      "batch_normalization_94 (Batc (None, 14, 14, 14, 20)    80        \n",
      "_________________________________________________________________\n",
      "conv3d_95 (Conv3D)           (None, 12, 12, 12, 40)    21640     \n",
      "_________________________________________________________________\n",
      "max_pooling3d_95 (MaxPooling (None, 6, 6, 6, 40)       0         \n",
      "_________________________________________________________________\n",
      "batch_normalization_95 (Batc (None, 6, 6, 6, 40)       160       \n",
      "_________________________________________________________________\n",
      "global_average_pooling3d_32  (None, 40)                0         \n",
      "_________________________________________________________________\n",
      "dense_64 (Dense)             (None, 40)                1640      \n",
      "_________________________________________________________________\n",
      "dropout_32 (Dropout)         (None, 40)                0         \n",
      "_________________________________________________________________\n",
      "dense_65 (Dense)             (None, 1)                 41        \n",
      "=================================================================\n",
      "Total params: 29,301\n",
      "Trainable params: 29,161\n",
      "Non-trainable params: 140\n",
      "_________________________________________________________________\n",
      "Epoch 1/20\n",
      "24/24 [==============================] - 17s 614ms/step - loss: 0.7466 - auc: 0.6367 - val_loss: 0.7045 - val_auc: 0.5000\n",
      "Epoch 2/20\n",
      "24/24 [==============================] - 16s 658ms/step - loss: 0.6437 - auc: 0.4668 - val_loss: 0.6969 - val_auc: 0.4206\n",
      "Epoch 3/20\n",
      "24/24 [==============================] - 17s 700ms/step - loss: 0.5768 - auc: 0.5548 - val_loss: 0.6929 - val_auc: 0.4732\n",
      "Epoch 4/20\n",
      "24/24 [==============================] - 16s 648ms/step - loss: 0.5669 - auc: 0.5325 - val_loss: 0.6888 - val_auc: 0.4615\n",
      "Epoch 5/20\n",
      "24/24 [==============================] - 16s 670ms/step - loss: 0.5582 - auc: 0.4613 - val_loss: 0.6901 - val_auc: 0.4732\n",
      "Epoch 6/20\n",
      "24/24 [==============================] - 17s 696ms/step - loss: 0.5741 - auc: 0.4907 - val_loss: 0.6966 - val_auc: 0.4674\n",
      "Epoch 7/20\n",
      "24/24 [==============================] - 16s 683ms/step - loss: 0.5482 - auc: 0.5917 - val_loss: 0.6967 - val_auc: 0.4732\n",
      "Epoch 8/20\n",
      "24/24 [==============================] - 15s 634ms/step - loss: 0.5653 - auc: 0.5451 - val_loss: 0.6970 - val_auc: 0.4507\n",
      "Epoch 9/20\n",
      "24/24 [==============================] - 16s 651ms/step - loss: 0.5190 - auc: 0.6070 - val_loss: 0.6938 - val_auc: 0.4824\n",
      "Epoch 10/20\n",
      "24/24 [==============================] - 16s 677ms/step - loss: 0.5426 - auc: 0.5442 - val_loss: 0.6962 - val_auc: 0.4766\n",
      "Epoch 11/20\n",
      "24/24 [==============================] - 15s 615ms/step - loss: 0.5351 - auc: 0.5286 - val_loss: 0.6862 - val_auc: 0.4548\n",
      "Epoch 12/20\n",
      "24/24 [==============================] - 16s 660ms/step - loss: 0.5355 - auc: 0.6459 - val_loss: 0.6713 - val_auc: 0.4314\n",
      "Epoch 13/20\n",
      "24/24 [==============================] - 16s 669ms/step - loss: 0.5047 - auc: 0.6519 - val_loss: 0.6638 - val_auc: 0.4197\n",
      "Epoch 14/20\n",
      "24/24 [==============================] - 15s 638ms/step - loss: 0.5360 - auc: 0.5184 - val_loss: 0.6513 - val_auc: 0.4691\n",
      "Epoch 15/20\n",
      "24/24 [==============================] - 16s 673ms/step - loss: 0.5049 - auc: 0.6060 - val_loss: 0.6316 - val_auc: 0.4557\n",
      "Epoch 16/20\n",
      "24/24 [==============================] - 16s 653ms/step - loss: 0.5102 - auc: 0.6747 - val_loss: 0.6176 - val_auc: 0.4482\n",
      "Epoch 17/20\n",
      "24/24 [==============================] - 16s 673ms/step - loss: 0.4481 - auc: 0.7013 - val_loss: 0.6020 - val_auc: 0.4498\n",
      "Epoch 18/20\n",
      "24/24 [==============================] - 17s 693ms/step - loss: 0.5167 - auc: 0.5671 - val_loss: 0.5891 - val_auc: 0.4356\n",
      "Epoch 19/20\n",
      "24/24 [==============================] - 16s 654ms/step - loss: 0.5608 - auc: 0.5287 - val_loss: 0.5778 - val_auc: 0.4758\n",
      "Epoch 20/20\n",
      "24/24 [==============================] - 15s 647ms/step - loss: 0.5213 - auc: 0.6099 - val_loss: 0.5616 - val_auc: 0.4540\n",
      "Score for fold 0: loss of 0.5615742206573486; auc of 0.4540134072303772\n"
     ]
    },
    {
     "data": {
      "image/png": "[encoded data removed]",
      "text/plain": [
       "<Figure size 432x288 with 1 Axes>"
      ]
     },
     "metadata": {
      "needs_background": "light"
     },
     "output_type": "display_data"
    },
    {
     "name": "stdout",
     "output_type": "stream",
     "text": [
      "saved model to disk\n",
      "STARTING MODEL TRAINING FOR SKFOLD SPLIT : 2\n",
      "236\n",
      "59\n",
      "Model: \"3dcnn\"\n",
      "_________________________________________________________________\n",
      "Layer (type)                 Output Shape              Param #   \n",
      "=================================================================\n",
      "input_34 (InputLayer)        [(None, 64, 64, 64, 1)]   0         \n",
      "_________________________________________________________________\n",
      "conv3d_96 (Conv3D)           (None, 62, 62, 62, 10)    280       \n",
      "_________________________________________________________________\n",
      "max_pooling3d_96 (MaxPooling (None, 31, 31, 31, 10)    0         \n",
      "_________________________________________________________________\n",
      "batch_normalization_96 (Batc (None, 31, 31, 31, 10)    40        \n",
      "_________________________________________________________________\n",
      "conv3d_97 (Conv3D)           (None, 29, 29, 29, 20)    5420      \n",
      "_________________________________________________________________\n",
      "max_pooling3d_97 (MaxPooling (None, 14, 14, 14, 20)    0         \n",
      "_________________________________________________________________\n",
      "batch_normalization_97 (Batc (None, 14, 14, 14, 20)    80        \n",
      "_________________________________________________________________\n",
      "conv3d_98 (Conv3D)           (None, 12, 12, 12, 40)    21640     \n",
      "_________________________________________________________________\n",
      "max_pooling3d_98 (MaxPooling (None, 6, 6, 6, 40)       0         \n",
      "_________________________________________________________________\n",
      "batch_normalization_98 (Batc (None, 6, 6, 6, 40)       160       \n",
      "_________________________________________________________________\n",
      "global_average_pooling3d_33  (None, 40)                0         \n",
      "_________________________________________________________________\n",
      "dense_66 (Dense)             (None, 40)                1640      \n",
      "_________________________________________________________________\n",
      "dropout_33 (Dropout)         (None, 40)                0         \n",
      "_________________________________________________________________\n",
      "dense_67 (Dense)             (None, 1)                 41        \n",
      "=================================================================\n",
      "Total params: 29,301\n",
      "Trainable params: 29,161\n",
      "Non-trainable params: 140\n",
      "_________________________________________________________________\n",
      "Epoch 1/20\n",
      "24/24 [==============================] - 18s 663ms/step - loss: 0.6254 - auc: 0.4870 - val_loss: 0.6690 - val_auc: 0.5577\n",
      "Epoch 2/20\n",
      "24/24 [==============================] - 15s 611ms/step - loss: 0.5927 - auc: 0.5448 - val_loss: 0.6389 - val_auc: 0.5895\n",
      "Epoch 3/20\n",
      "24/24 [==============================] - 15s 625ms/step - loss: 0.5508 - auc: 0.5602 - val_loss: 0.6166 - val_auc: 0.5644\n",
      "Epoch 4/20\n",
      "24/24 [==============================] - 16s 645ms/step - loss: 0.5911 - auc: 0.4838 - val_loss: 0.6070 - val_auc: 0.6079\n",
      "Epoch 5/20\n",
      "24/24 [==============================] - 16s 647ms/step - loss: 0.5788 - auc: 0.5137 - val_loss: 0.5970 - val_auc: 0.5635\n",
      "Epoch 6/20\n",
      "24/24 [==============================] - 17s 695ms/step - loss: 0.6013 - auc: 0.4380 - val_loss: 0.5940 - val_auc: 0.6062\n",
      "Epoch 7/20\n",
      "24/24 [==============================] - 16s 679ms/step - loss: 0.5422 - auc: 0.5265 - val_loss: 0.5889 - val_auc: 0.5987\n",
      "Epoch 8/20\n",
      "24/24 [==============================] - 16s 644ms/step - loss: 0.5108 - auc: 0.6456 - val_loss: 0.5826 - val_auc: 0.5819\n",
      "Epoch 9/20\n",
      "24/24 [==============================] - 17s 693ms/step - loss: 0.4990 - auc: 0.6722 - val_loss: 0.5853 - val_auc: 0.5970\n",
      "Epoch 10/20\n",
      "24/24 [==============================] - 15s 643ms/step - loss: 0.5203 - auc: 0.5474 - val_loss: 0.5835 - val_auc: 0.5769\n",
      "Epoch 11/20\n",
      "24/24 [==============================] - 16s 668ms/step - loss: 0.4797 - auc: 0.6427 - val_loss: 0.5767 - val_auc: 0.5753\n",
      "Epoch 12/20\n",
      "24/24 [==============================] - 16s 646ms/step - loss: 0.5374 - auc: 0.6430 - val_loss: 0.5753 - val_auc: 0.5886\n",
      "Epoch 13/20\n",
      "24/24 [==============================] - 16s 654ms/step - loss: 0.5299 - auc: 0.5269 - val_loss: 0.5691 - val_auc: 0.5844\n",
      "Epoch 14/20\n",
      "24/24 [==============================] - 15s 635ms/step - loss: 0.4826 - auc: 0.6560 - val_loss: 0.5610 - val_auc: 0.5870\n",
      "Epoch 15/20\n",
      "24/24 [==============================] - 16s 671ms/step - loss: 0.5072 - auc: 0.5466 - val_loss: 0.5595 - val_auc: 0.5619\n",
      "Epoch 16/20\n",
      "24/24 [==============================] - 17s 702ms/step - loss: 0.5023 - auc: 0.6273 - val_loss: 0.5567 - val_auc: 0.5828\n",
      "Epoch 17/20\n",
      "24/24 [==============================] - 15s 642ms/step - loss: 0.5194 - auc: 0.6337 - val_loss: 0.5477 - val_auc: 0.5819\n",
      "Epoch 18/20\n",
      "24/24 [==============================] - 16s 647ms/step - loss: 0.4892 - auc: 0.6627 - val_loss: 0.5487 - val_auc: 0.5811\n",
      "Epoch 19/20\n",
      "24/24 [==============================] - 15s 603ms/step - loss: 0.5563 - auc: 0.5900 - val_loss: 0.5521 - val_auc: 0.5719\n",
      "Epoch 20/20\n",
      "24/24 [==============================] - 15s 645ms/step - loss: 0.4953 - auc: 0.5913 - val_loss: 0.5440 - val_auc: 0.6129\n",
      "Score for fold 1: loss of 0.5440080165863037; auc of 0.6128762364387512\n"
     ]
    },
    {
     "data": {
      "image/png": "[encoded data removed]",
      "text/plain": [
       "<Figure size 432x288 with 1 Axes>"
      ]
     },
     "metadata": {
      "needs_background": "light"
     },
     "output_type": "display_data"
    },
    {
     "name": "stdout",
     "output_type": "stream",
     "text": [
      "saved model to disk\n",
      "STARTING MODEL TRAINING FOR SKFOLD SPLIT : 3\n",
      "236\n",
      "59\n",
      "Model: \"3dcnn\"\n",
      "_________________________________________________________________\n",
      "Layer (type)                 Output Shape              Param #   \n",
      "=================================================================\n",
      "input_35 (InputLayer)        [(None, 64, 64, 64, 1)]   0         \n",
      "_________________________________________________________________\n",
      "conv3d_99 (Conv3D)           (None, 62, 62, 62, 10)    280       \n",
      "_________________________________________________________________\n",
      "max_pooling3d_99 (MaxPooling (None, 31, 31, 31, 10)    0         \n",
      "_________________________________________________________________\n",
      "batch_normalization_99 (Batc (None, 31, 31, 31, 10)    40        \n",
      "_________________________________________________________________\n",
      "conv3d_100 (Conv3D)          (None, 29, 29, 29, 20)    5420      \n",
      "_________________________________________________________________\n",
      "max_pooling3d_100 (MaxPoolin (None, 14, 14, 14, 20)    0         \n",
      "_________________________________________________________________\n",
      "batch_normalization_100 (Bat (None, 14, 14, 14, 20)    80        \n",
      "_________________________________________________________________\n",
      "conv3d_101 (Conv3D)          (None, 12, 12, 12, 40)    21640     \n",
      "_________________________________________________________________\n",
      "max_pooling3d_101 (MaxPoolin (None, 6, 6, 6, 40)       0         \n",
      "_________________________________________________________________\n",
      "batch_normalization_101 (Bat (None, 6, 6, 6, 40)       160       \n",
      "_________________________________________________________________\n",
      "global_average_pooling3d_34  (None, 40)                0         \n",
      "_________________________________________________________________\n",
      "dense_68 (Dense)             (None, 40)                1640      \n",
      "_________________________________________________________________\n",
      "dropout_34 (Dropout)         (None, 40)                0         \n",
      "_________________________________________________________________\n",
      "dense_69 (Dense)             (None, 1)                 41        \n",
      "=================================================================\n",
      "Total params: 29,301\n",
      "Trainable params: 29,161\n",
      "Non-trainable params: 140\n",
      "_________________________________________________________________\n",
      "Epoch 1/20\n",
      "24/24 [==============================] - 18s 660ms/step - loss: 0.6888 - auc: 0.5539 - val_loss: 0.6733 - val_auc: 0.5000\n",
      "Epoch 2/20\n",
      "24/24 [==============================] - 15s 600ms/step - loss: 0.6111 - auc: 0.4705 - val_loss: 0.6446 - val_auc: 0.7181\n",
      "Epoch 3/20\n",
      "24/24 [==============================] - 15s 630ms/step - loss: 0.5966 - auc: 0.5165 - val_loss: 0.6196 - val_auc: 0.6862\n",
      "Epoch 4/20\n",
      "24/24 [==============================] - 16s 651ms/step - loss: 0.5615 - auc: 0.4997 - val_loss: 0.6003 - val_auc: 0.7207\n",
      "Epoch 5/20\n",
      "24/24 [==============================] - 16s 681ms/step - loss: 0.5768 - auc: 0.5574 - val_loss: 0.5882 - val_auc: 0.6489\n",
      "Epoch 6/20\n",
      "24/24 [==============================] - 16s 663ms/step - loss: 0.5363 - auc: 0.5454 - val_loss: 0.5775 - val_auc: 0.6906\n",
      "Epoch 7/20\n",
      "24/24 [==============================] - 16s 645ms/step - loss: 0.5207 - auc: 0.6301 - val_loss: 0.5683 - val_auc: 0.6587\n",
      "Epoch 8/20\n",
      "24/24 [==============================] - 15s 626ms/step - loss: 0.5058 - auc: 0.6384 - val_loss: 0.5591 - val_auc: 0.6516\n",
      "Epoch 9/20\n",
      "24/24 [==============================] - 15s 623ms/step - loss: 0.4842 - auc: 0.5594 - val_loss: 0.5563 - val_auc: 0.6738\n",
      "Epoch 10/20\n",
      "24/24 [==============================] - 16s 650ms/step - loss: 0.5423 - auc: 0.5794 - val_loss: 0.5625 - val_auc: 0.6640\n",
      "Epoch 11/20\n",
      "24/24 [==============================] - 16s 665ms/step - loss: 0.5214 - auc: 0.5638 - val_loss: 0.5479 - val_auc: 0.6587\n",
      "Epoch 12/20\n",
      "24/24 [==============================] - 17s 686ms/step - loss: 0.5408 - auc: 0.5038 - val_loss: 0.5403 - val_auc: 0.6746\n",
      "Epoch 13/20\n",
      "24/24 [==============================] - 15s 632ms/step - loss: 0.5063 - auc: 0.4919 - val_loss: 0.5323 - val_auc: 0.6809\n",
      "Epoch 14/20\n",
      "24/24 [==============================] - 15s 642ms/step - loss: 0.5345 - auc: 0.5698 - val_loss: 0.5277 - val_auc: 0.6755\n",
      "Epoch 15/20\n",
      "24/24 [==============================] - 16s 668ms/step - loss: 0.5277 - auc: 0.6243 - val_loss: 0.5175 - val_auc: 0.6676\n",
      "Epoch 16/20\n",
      "24/24 [==============================] - 15s 628ms/step - loss: 0.5768 - auc: 0.5950 - val_loss: 0.5065 - val_auc: 0.7057\n",
      "Epoch 17/20\n",
      "24/24 [==============================] - 16s 659ms/step - loss: 0.5165 - auc: 0.6181 - val_loss: 0.4973 - val_auc: 0.6826\n",
      "Epoch 18/20\n",
      "24/24 [==============================] - 17s 702ms/step - loss: 0.5373 - auc: 0.5294 - val_loss: 0.4952 - val_auc: 0.6791\n",
      "Epoch 19/20\n",
      "24/24 [==============================] - 16s 655ms/step - loss: 0.4666 - auc: 0.7145 - val_loss: 0.4832 - val_auc: 0.6853\n",
      "Epoch 20/20\n",
      "24/24 [==============================] - 15s 628ms/step - loss: 0.5272 - auc: 0.4998 - val_loss: 0.4904 - val_auc: 0.6888\n",
      "Score for fold 2: loss of 0.49044859409332275; auc of 0.688829779624939\n"
     ]
    },
    {
     "data": {
      "image/png": "[encoded data removed]",
      "text/plain": [
       "<Figure size 432x288 with 1 Axes>"
      ]
     },
     "metadata": {
      "needs_background": "light"
     },
     "output_type": "display_data"
    },
    {
     "name": "stdout",
     "output_type": "stream",
     "text": [
      "saved model to disk\n",
      "STARTING MODEL TRAINING FOR SKFOLD SPLIT : 4\n",
      "236\n",
      "59\n",
      "Model: \"3dcnn\"\n",
      "_________________________________________________________________\n",
      "Layer (type)                 Output Shape              Param #   \n",
      "=================================================================\n",
      "input_36 (InputLayer)        [(None, 64, 64, 64, 1)]   0         \n",
      "_________________________________________________________________\n",
      "conv3d_102 (Conv3D)          (None, 62, 62, 62, 10)    280       \n",
      "_________________________________________________________________\n",
      "max_pooling3d_102 (MaxPoolin (None, 31, 31, 31, 10)    0         \n",
      "_________________________________________________________________\n",
      "batch_normalization_102 (Bat (None, 31, 31, 31, 10)    40        \n",
      "_________________________________________________________________\n",
      "conv3d_103 (Conv3D)          (None, 29, 29, 29, 20)    5420      \n",
      "_________________________________________________________________\n",
      "max_pooling3d_103 (MaxPoolin (None, 14, 14, 14, 20)    0         \n",
      "_________________________________________________________________\n",
      "batch_normalization_103 (Bat (None, 14, 14, 14, 20)    80        \n",
      "_________________________________________________________________\n",
      "conv3d_104 (Conv3D)          (None, 12, 12, 12, 40)    21640     \n",
      "_________________________________________________________________\n",
      "max_pooling3d_104 (MaxPoolin (None, 6, 6, 6, 40)       0         \n",
      "_________________________________________________________________\n",
      "batch_normalization_104 (Bat (None, 6, 6, 6, 40)       160       \n",
      "_________________________________________________________________\n",
      "global_average_pooling3d_35  (None, 40)                0         \n",
      "_________________________________________________________________\n",
      "dense_70 (Dense)             (None, 40)                1640      \n",
      "_________________________________________________________________\n",
      "dropout_35 (Dropout)         (None, 40)                0         \n",
      "_________________________________________________________________\n",
      "dense_71 (Dense)             (None, 1)                 41        \n",
      "=================================================================\n",
      "Total params: 29,301\n",
      "Trainable params: 29,161\n",
      "Non-trainable params: 140\n",
      "_________________________________________________________________\n",
      "Epoch 1/20\n",
      "24/24 [==============================] - 18s 676ms/step - loss: 0.6375 - auc: 0.5185 - val_loss: 0.6507 - val_auc: 0.6073\n",
      "Epoch 2/20\n",
      "24/24 [==============================] - 16s 647ms/step - loss: 0.5410 - auc: 0.6488 - val_loss: 0.6209 - val_auc: 0.6188\n",
      "Epoch 3/20\n",
      "24/24 [==============================] - 15s 606ms/step - loss: 0.5375 - auc: 0.5893 - val_loss: 0.5995 - val_auc: 0.6312\n",
      "Epoch 4/20\n",
      "24/24 [==============================] - 15s 610ms/step - loss: 0.5936 - auc: 0.4894 - val_loss: 0.5911 - val_auc: 0.6312\n",
      "Epoch 5/20\n",
      "24/24 [==============================] - 16s 651ms/step - loss: 0.5532 - auc: 0.5836 - val_loss: 0.5804 - val_auc: 0.6206\n",
      "Epoch 6/20\n",
      "24/24 [==============================] - 15s 638ms/step - loss: 0.5331 - auc: 0.6005 - val_loss: 0.5761 - val_auc: 0.6348\n",
      "Epoch 7/20\n",
      "24/24 [==============================] - 16s 677ms/step - loss: 0.5760 - auc: 0.5428 - val_loss: 0.5713 - val_auc: 0.6294\n",
      "Epoch 8/20\n",
      "24/24 [==============================] - 15s 646ms/step - loss: 0.5267 - auc: 0.5969 - val_loss: 0.5646 - val_auc: 0.6356\n",
      "Epoch 9/20\n",
      "24/24 [==============================] - 15s 628ms/step - loss: 0.5139 - auc: 0.5864 - val_loss: 0.5570 - val_auc: 0.5931\n",
      "Epoch 10/20\n",
      "24/24 [==============================] - 15s 611ms/step - loss: 0.4869 - auc: 0.6608 - val_loss: 0.5554 - val_auc: 0.6303\n",
      "Epoch 11/20\n",
      "24/24 [==============================] - 15s 639ms/step - loss: 0.5517 - auc: 0.5548 - val_loss: 0.5478 - val_auc: 0.6064\n",
      "Epoch 12/20\n",
      "24/24 [==============================] - 15s 610ms/step - loss: 0.4943 - auc: 0.6298 - val_loss: 0.5412 - val_auc: 0.6285\n",
      "Epoch 13/20\n",
      "24/24 [==============================] - 16s 646ms/step - loss: 0.4869 - auc: 0.5846 - val_loss: 0.5384 - val_auc: 0.5949\n",
      "Epoch 14/20\n",
      "24/24 [==============================] - 15s 611ms/step - loss: 0.5056 - auc: 0.5903 - val_loss: 0.5286 - val_auc: 0.6339\n",
      "Epoch 15/20\n",
      "24/24 [==============================] - 16s 684ms/step - loss: 0.5039 - auc: 0.4694 - val_loss: 0.5212 - val_auc: 0.6277\n",
      "Epoch 16/20\n",
      "24/24 [==============================] - 17s 692ms/step - loss: 0.4725 - auc: 0.6600 - val_loss: 0.5169 - val_auc: 0.6303\n",
      "Epoch 17/20\n",
      "24/24 [==============================] - 15s 637ms/step - loss: 0.5423 - auc: 0.6136 - val_loss: 0.5135 - val_auc: 0.6365\n",
      "Epoch 18/20\n",
      "24/24 [==============================] - 15s 621ms/step - loss: 0.5013 - auc: 0.5865 - val_loss: 0.5071 - val_auc: 0.6356\n",
      "Epoch 19/20\n",
      "24/24 [==============================] - 15s 642ms/step - loss: 0.4849 - auc: 0.6061 - val_loss: 0.5077 - val_auc: 0.6356\n",
      "Epoch 20/20\n",
      "24/24 [==============================] - 14s 598ms/step - loss: 0.5070 - auc: 0.5304 - val_loss: 0.5100 - val_auc: 0.6401\n",
      "Score for fold 3: loss of 0.5100125670433044; auc of 0.640070915222168\n"
     ]
    },
    {
     "data": {
      "image/png": "[encoded data removed]",
      "text/plain": [
       "<Figure size 432x288 with 1 Axes>"
      ]
     },
     "metadata": {
      "needs_background": "light"
     },
     "output_type": "display_data"
    },
    {
     "name": "stdout",
     "output_type": "stream",
     "text": [
      "saved model to disk\n",
      "STARTING MODEL TRAINING FOR SKFOLD SPLIT : 5\n",
      "236\n",
      "59\n",
      "Model: \"3dcnn\"\n",
      "_________________________________________________________________\n",
      "Layer (type)                 Output Shape              Param #   \n",
      "=================================================================\n",
      "input_37 (InputLayer)        [(None, 64, 64, 64, 1)]   0         \n",
      "_________________________________________________________________\n",
      "conv3d_105 (Conv3D)          (None, 62, 62, 62, 10)    280       \n",
      "_________________________________________________________________\n",
      "max_pooling3d_105 (MaxPoolin (None, 31, 31, 31, 10)    0         \n",
      "_________________________________________________________________\n",
      "batch_normalization_105 (Bat (None, 31, 31, 31, 10)    40        \n",
      "_________________________________________________________________\n",
      "conv3d_106 (Conv3D)          (None, 29, 29, 29, 20)    5420      \n",
      "_________________________________________________________________\n",
      "max_pooling3d_106 (MaxPoolin (None, 14, 14, 14, 20)    0         \n",
      "_________________________________________________________________\n",
      "batch_normalization_106 (Bat (None, 14, 14, 14, 20)    80        \n",
      "_________________________________________________________________\n",
      "conv3d_107 (Conv3D)          (None, 12, 12, 12, 40)    21640     \n",
      "_________________________________________________________________\n",
      "max_pooling3d_107 (MaxPoolin (None, 6, 6, 6, 40)       0         \n",
      "_________________________________________________________________\n",
      "batch_normalization_107 (Bat (None, 6, 6, 6, 40)       160       \n",
      "_________________________________________________________________\n",
      "global_average_pooling3d_36  (None, 40)                0         \n",
      "_________________________________________________________________\n",
      "dense_72 (Dense)             (None, 40)                1640      \n",
      "_________________________________________________________________\n",
      "dropout_36 (Dropout)         (None, 40)                0         \n",
      "_________________________________________________________________\n",
      "dense_73 (Dense)             (None, 1)                 41        \n",
      "=================================================================\n",
      "Total params: 29,301\n",
      "Trainable params: 29,161\n",
      "Non-trainable params: 140\n",
      "_________________________________________________________________\n",
      "Epoch 1/20\n",
      "24/24 [==============================] - 18s 657ms/step - loss: 0.7112 - auc: 0.4391 - val_loss: 0.6741 - val_auc: 0.5000\n",
      "Epoch 2/20\n",
      "24/24 [==============================] - 15s 626ms/step - loss: 0.6422 - auc: 0.4669 - val_loss: 0.6525 - val_auc: 0.4894\n",
      "Epoch 3/20\n",
      "24/24 [==============================] - 15s 638ms/step - loss: 0.6062 - auc: 0.5126 - val_loss: 0.6402 - val_auc: 0.5691\n",
      "Epoch 4/20\n",
      "24/24 [==============================] - 14s 588ms/step - loss: 0.5843 - auc: 0.5746 - val_loss: 0.6322 - val_auc: 0.5204\n",
      "Epoch 5/20\n",
      "24/24 [==============================] - 15s 624ms/step - loss: 0.5777 - auc: 0.5486 - val_loss: 0.6266 - val_auc: 0.6427\n",
      "Epoch 6/20\n",
      "24/24 [==============================] - 16s 676ms/step - loss: 0.5894 - auc: 0.5515 - val_loss: 0.6238 - val_auc: 0.5700\n",
      "Epoch 7/20\n",
      "24/24 [==============================] - 15s 601ms/step - loss: 0.5873 - auc: 0.5177 - val_loss: 0.6206 - val_auc: 0.5177\n",
      "Epoch 8/20\n",
      "24/24 [==============================] - 14s 589ms/step - loss: 0.5470 - auc: 0.5090 - val_loss: 0.6225 - val_auc: 0.6516\n",
      "Epoch 9/20\n",
      "24/24 [==============================] - 14s 566ms/step - loss: 0.5645 - auc: 0.5534 - val_loss: 0.6128 - val_auc: 0.5966\n",
      "Epoch 10/20\n",
      "24/24 [==============================] - 14s 572ms/step - loss: 0.5982 - auc: 0.4776 - val_loss: 0.5953 - val_auc: 0.5718\n",
      "Epoch 11/20\n",
      "24/24 [==============================] - 13s 557ms/step - loss: 0.5955 - auc: 0.5389 - val_loss: 0.5814 - val_auc: 0.6259\n",
      "Epoch 12/20\n",
      "24/24 [==============================] - 14s 594ms/step - loss: 0.5740 - auc: 0.4779 - val_loss: 0.5689 - val_auc: 0.6108\n",
      "Epoch 13/20\n",
      "24/24 [==============================] - 14s 567ms/step - loss: 0.5270 - auc: 0.5180 - val_loss: 0.5551 - val_auc: 0.6055\n",
      "Epoch 14/20\n",
      "24/24 [==============================] - 14s 575ms/step - loss: 0.5534 - auc: 0.5831 - val_loss: 0.5405 - val_auc: 0.6028\n",
      "Epoch 15/20\n",
      "24/24 [==============================] - 14s 600ms/step - loss: 0.5822 - auc: 0.4858 - val_loss: 0.5290 - val_auc: 0.6223\n",
      "Epoch 16/20\n",
      "24/24 [==============================] - 15s 600ms/step - loss: 0.5227 - auc: 0.6317 - val_loss: 0.5170 - val_auc: 0.6152\n",
      "Epoch 17/20\n",
      "24/24 [==============================] - 15s 601ms/step - loss: 0.5448 - auc: 0.4312 - val_loss: 0.5131 - val_auc: 0.6365\n",
      "Epoch 18/20\n",
      "24/24 [==============================] - 14s 574ms/step - loss: 0.5488 - auc: 0.5295 - val_loss: 0.5104 - val_auc: 0.6179\n",
      "Epoch 19/20\n",
      "24/24 [==============================] - 14s 566ms/step - loss: 0.5150 - auc: 0.6090 - val_loss: 0.5048 - val_auc: 0.6303\n",
      "Epoch 20/20\n",
      "24/24 [==============================] - 14s 581ms/step - loss: 0.5301 - auc: 0.5407 - val_loss: 0.5083 - val_auc: 0.6046\n",
      "Score for fold 4: loss of 0.5083361864089966; auc of 0.6046099662780762\n"
     ]
    },
    {
     "data": {
      "image/png": "[encoded data removed]",
      "text/plain": [
       "<Figure size 432x288 with 1 Axes>"
      ]
     },
     "metadata": {
      "needs_background": "light"
     },
     "output_type": "display_data"
    },
    {
     "name": "stdout",
     "output_type": "stream",
     "text": [
      "saved model to disk\n"
     ]
    }
   ],
   "source": [
    "roc_aucs=[]\n",
    "tprs=[]\n",
    "fprs=[]\n",
    "skf_count = 0\n",
    "\n",
    "with parallel_backend('threading', n_jobs=15):\n",
    "\n",
    "    for train_idx, val_idx in skf.split(x,y):\n",
    "        print(\"STARTING MODEL TRAINING FOR SKFOLD SPLIT : \" + str(skf_count + 1))\n",
    "        print(len(train_idx))\n",
    "        print(len(val_idx))\n",
    "\n",
    "        x_train = x[train_idx]\n",
    "        y_train = y[train_idx]\n",
    "        x_val = x[val_idx]\n",
    "        y_val = y[val_idx]\n",
    "\n",
    "\n",
    "        # Define data loaders.\n",
    "        train_loader = tf.data.Dataset.from_tensor_slices((x_train, y_train))\n",
    "        validation_loader = tf.data.Dataset.from_tensor_slices((x_val, y_val))\n",
    "\n",
    "        batch_size = 10\n",
    "        # Augment the on the fly during training.\n",
    "        train_dataset = (\n",
    "            train_loader.shuffle(len(x_train))\n",
    "            .map(train_preprocessing)\n",
    "            .batch(batch_size)\n",
    "            .prefetch(2)\n",
    "        )\n",
    "        # Only rescale.\n",
    "        validation_dataset = (\n",
    "            validation_loader.shuffle(len(x_val))\n",
    "            .map(validation_preprocessing)\n",
    "            .batch(batch_size)\n",
    "            .prefetch(2)\n",
    "        )\n",
    "\n",
    "        # Build model.\n",
    "        model = get_model(width=64, height=64, depth=64)\n",
    "        model.summary()\n",
    "\n",
    "        # Compile model.\n",
    "        initial_learning_rate = 0.0001\n",
    "        lr_schedule = keras.optimizers.schedules.ExponentialDecay(\n",
    "            initial_learning_rate, decay_steps=100000, decay_rate=0.96, staircase=True\n",
    "        )\n",
    "        METRICS = [\n",
    "            keras.metrics.AUC(name='auc')]\n",
    "\n",
    "\n",
    "        model.compile(\n",
    "            loss=\"binary_crossentropy\",\n",
    "            optimizer=keras.optimizers.Adam(learning_rate=lr_schedule),\n",
    "            metrics=METRICS\n",
    "        )\n",
    "\n",
    "        # Define callbacks.\n",
    "        checkpoint_cb = keras.callbacks.ModelCheckpoint(results_dir + \"/model_\" + str(skf_count) + \".h5\", save_best_only=True)\n",
    "\n",
    "        # Train the model, doing validation at the end of each epoch\n",
    "        epochs = 20\n",
    "        history=model.fit(\n",
    "            train_dataset,\n",
    "            validation_data=validation_dataset,\n",
    "            epochs=epochs,\n",
    "            shuffle=True,\n",
    "            verbose=1,\n",
    "            callbacks=[checkpoint_cb]\n",
    "        )\n",
    "\n",
    "        # Generate cross-validation metrics\n",
    "        scores = model.evaluate(x_val, y_val, verbose=0)\n",
    "        print(f'Score for fold {skf_count}: {model.metrics_names[0]} of {scores[0]}; {model.metrics_names[1]} of {scores[1]}')\n",
    "        loss_per_fold.append(scores[0])\n",
    "        \n",
    "        # Predict y for x validation\n",
    "        y_pred=model(x_val)\n",
    "        fpr, tpr, thresh=roc_curve(y_val, y_pred)\n",
    "                                   \n",
    "        roc_auc=auc(fpr, tpr)\n",
    "        fprs.append(fpr)\n",
    "        tprs.append(tpr)\n",
    "        \n",
    "        roc_aucs.append(roc_auc)#store AUC per fold\n",
    "        \n",
    "        plt.plot(fpr, tpr, lw=1, alpha=0.3, label='ROC fold %d (AUC=%0.2f)'%(skf_count+1, roc_auc)) \n",
    "        plt.show()\n",
    "        \n",
    "        model_json=model.to_json()\n",
    "        with open(results_dir + \"/model_\" + str(skf_count)+\".json\", \"w\") as json_file:\n",
    "            json_file.write(model_json)\n",
    "\n",
    "        model.save_weights(results_dir + \"/model_\" + str(skf_count) + \".h5\")\n",
    "        print(\"saved model to disk\")        \n",
    "        skf_count = skf_count + 1 #increase fold number"
   ]
  },
  {
   "cell_type": "code",
   "execution_count": 133,
   "metadata": {},
   "outputs": [
    {
     "name": "stdout",
     "output_type": "stream",
     "text": [
      "dict_keys(['loss', 'auc', 'val_loss', 'val_auc'])\n"
     ]
    },
    {
     "data": {
      "text/plain": [
       "<matplotlib.legend.Legend at 0x7f87ec066a30>"
      ]
     },
     "execution_count": 133,
     "metadata": {},
     "output_type": "execute_result"
    },
    {
     "data": {
      "image/png": "[encoded data removed]",
      "text/plain": [
       "<Figure size 432x288 with 1 Axes>"
      ]
     },
     "metadata": {
      "needs_background": "light"
     },
     "output_type": "display_data"
    }
   ],
   "source": [
    "print(history.history.keys())\n",
    "plt.plot(history.history['loss'])\n",
    "plt.plot(history.history['val_loss'])\n",
    "plt.legend(['train', 'validation'])"
   ]
  },
  {
   "cell_type": "code",
   "execution_count": 115,
   "metadata": {},
   "outputs": [
    {
     "data": {
      "text/plain": [
       "(29,)"
      ]
     },
     "execution_count": 115,
     "metadata": {},
     "output_type": "execute_result"
    }
   ],
   "source": []
  },
  {
   "cell_type": "code",
   "execution_count": 156,
   "metadata": {},
   "outputs": [
    {
     "name": "stdout",
     "output_type": "stream",
     "text": [
      "0.6013211888327522\n"
     ]
    },
    {
     "data": {
      "image/png": "[encoded data removed]",
      "text/plain": [
       "<Figure size 720x720 with 1 Axes>"
      ]
     },
     "metadata": {
      "needs_background": "light"
     },
     "output_type": "display_data"
    }
   ],
   "source": [
    "from sklearn.metrics import roc_curve\n",
    "from sklearn.metrics import auc\n",
    "tpr=[]\n",
    "mean_fpr = np.linspace(0,1,100)\n",
    "\n",
    "for i in range(0,4):\n",
    "    tpr.append(np.interp(mean_fpr, fprs[i], tprs[i]))\n",
    "    tpr[-1][0]=0\n",
    "    \n",
    "mean_tpr=np.mean(tpr,axis=0)\n",
    "mean_tpr[-1]=1\n",
    "\n",
    "stdtpr=np.std(tprall, axis=0)\n",
    "tprs_upper=np.minimum(mean_tpr+stdtpr,1)\n",
    "tprs_lower=np.maximum(mean_tpr-stdtpr,0)\n",
    "\n",
    "mean_auc=auc(mean_fpr, mean_tpr)\n",
    "std_auc=np.std(roc_aucs)\n",
    "#mean_fprs=np.mean(fprs)\n",
    "#mean_tprs=np.mean(tprs)\n",
    "plt.figure(figsize=(10,10))\n",
    "for i in range(0,4):\n",
    "    plt.plot(fprs[i], tprs[i], alpha=0.3)\n",
    "    \n",
    "plt.plot([0,1],[0,1], color='navy', linestyle='--')\n",
    "plt.plot(mean_fpr, mean_tpr, color='b', lw=2, label=r'Mean ROC (AUC = %0.2f$\\pm$ %0.2f)'%(mean_auc, std_auc))\n",
    "plt.fill_between(mean_fpr, tprs_lower, tprs_upper,  color='grey', alpha=.2, label=r'$\\pm$ 1 std. dev.')\n",
    "plt.xlim([-0.01, 1.01])\n",
    "plt.ylim([-0.01, 1.01])\n",
    "plt.xlabel('False Positive Rate',fontsize=17)\n",
    "plt.ylabel('True Positive Rate', fontsize=17)\n",
    "plt.title\n",
    "plt.legend(loc=\"lower right\", prop={'size':15})\n",
    "\n",
    "print(np.mean(roc_aucs))"
   ]
  },
  {
   "cell_type": "code",
   "execution_count": null,
   "metadata": {},
   "outputs": [],
   "source": []
  },
  {
   "cell_type": "code",
   "execution_count": 85,
   "metadata": {},
   "outputs": [
    {
     "data": {
      "text/plain": [
       "10"
      ]
     },
     "execution_count": 85,
     "metadata": {},
     "output_type": "execute_result"
    }
   ],
   "source": [
    "skf_count\n"
   ]
  },
  {
   "cell_type": "code",
   "execution_count": 71,
   "metadata": {},
   "outputs": [
    {
     "data": {
      "text/plain": [
       "[<matplotlib.lines.Line2D at 0x7f887c46d250>]"
      ]
     },
     "execution_count": 71,
     "metadata": {},
     "output_type": "execute_result"
    },
    {
     "data": {
      "image/png": "[encoded data removed]",
      "text/plain": [
       "<Figure size 432x288 with 1 Axes>"
      ]
     },
     "metadata": {
      "needs_background": "light"
     },
     "output_type": "display_data"
    }
   ],
   "source": [
    "\n",
    "y_pred=model(x_val)\n",
    "fpr, tpr, thresh=roc_curve(y_val, y_pred)\n",
    "print(auc(fpr, tpr))\n",
    "plt.plot(fpr, tpr)\n"
   ]
  }
 ],
 "metadata": {
  "kernelspec": {
   "display_name": "Python 3",
   "language": "python",
   "name": "python3"
  },
  "language_info": {
   "codemirror_mode": {
    "name": "ipython",
    "version": 3
   },
   "file_extension": ".py",
   "mimetype": "text/x-python",
   "name": "python",
   "nbconvert_exporter": "python",
   "pygments_lexer": "ipython3",
   "version": "3.8.5"
  }
 },
 "nbformat": 4,
 "nbformat_minor": 4
}
